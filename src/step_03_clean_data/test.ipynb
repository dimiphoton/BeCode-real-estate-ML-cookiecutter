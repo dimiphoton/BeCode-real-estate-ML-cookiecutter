{
 "cells": [
  {
   "cell_type": "code",
   "execution_count": 12,
   "metadata": {},
   "outputs": [
    {
     "ename": "ModuleNotFoundError",
     "evalue": "No module named 'step_02_load_data'",
     "output_type": "error",
     "traceback": [
      "\u001b[0;31m---------------------------------------------------------------------------\u001b[0m",
      "\u001b[0;31mModuleNotFoundError\u001b[0m                       Traceback (most recent call last)",
      "Cell \u001b[0;32mIn[12], line 2\u001b[0m\n\u001b[1;32m      1\u001b[0m \u001b[39mimport\u001b[39;00m \u001b[39msys\u001b[39;00m\n\u001b[0;32m----> 2\u001b[0m \u001b[39mfrom\u001b[39;00m \u001b[39mstep_02_load_data\u001b[39;00m\u001b[39m.\u001b[39;00m\u001b[39mload\u001b[39;00m \u001b[39mimport\u001b[39;00m main\n\u001b[1;32m      3\u001b[0m sys\u001b[39m.\u001b[39mpath\u001b[39m.\u001b[39mappend(\u001b[39m\"\u001b[39m\u001b[39msrc\u001b[39m\u001b[39m\"\u001b[39m)\n",
      "\u001b[0;31mModuleNotFoundError\u001b[0m: No module named 'step_02_load_data'"
     ]
    }
   ],
   "source": [
    "import sys\n",
    "from step_02_load_data.load import main\n",
    "sys.path.append(\"src\")"
   ]
  },
  {
   "cell_type": "code",
   "execution_count": 5,
   "metadata": {},
   "outputs": [
    {
     "ename": "ModuleNotFoundError",
     "evalue": "No module named 'step_02_load_data'",
     "output_type": "error",
     "traceback": [
      "\u001b[0;31m---------------------------------------------------------------------------\u001b[0m",
      "\u001b[0;31mModuleNotFoundError\u001b[0m                       Traceback (most recent call last)",
      "Cell \u001b[0;32mIn[5], line 1\u001b[0m\n\u001b[0;32m----> 1\u001b[0m \u001b[39mfrom\u001b[39;00m \u001b[39mstep_02_load_data\u001b[39;00m\u001b[39m.\u001b[39;00m\u001b[39mload\u001b[39;00m \u001b[39mimport\u001b[39;00m \u001b[39m*\u001b[39m\n",
      "\u001b[0;31mModuleNotFoundError\u001b[0m: No module named 'step_02_load_data'"
     ]
    }
   ],
   "source": [
    "from step_02_load_data.load import *"
   ]
  },
  {
   "cell_type": "code",
   "execution_count": null,
   "metadata": {},
   "outputs": [],
   "source": [
    "import pandas as pd\n",
    "import os\n",
    "\n",
    "def load(dataset_name='dataset_01'):\n",
    "    \"\"\"this function loads a csv in a precise folder and returns a well indexed dataframe\n",
    "\n",
    "    Args:\n",
    "        dataset_name (str, optional): _name of the folder in the data/raw _. Defaults to 'dataset_01'.\n",
    "\n",
    "    Returns:\n",
    "        _type_: _description_\n",
    "    \"\"\"\n",
    "    script_directory = os.getcwd()\n",
    "    data_directory = os.path.abspath(os.path.join(script_directory, os.pardir, os.pardir, \"data\", \"raw\", dataset_name))\n",
    "    data_path = os.path.join(data_directory, 'data.csv')\n",
    "    df=pd.read_csv(data_path)\n",
    "    \n",
    "\n",
    "    df['Offer'] = df.apply(lambda row: 'rent' if row['To rent'] else 'sale', axis=1)\n",
    "    df.drop(['To rent', 'To sell','Surface area of the plot of land'], axis = 1, inplace = True)\n",
    "    df = df.set_index(['Offer','Id'])\n",
    "    columns_tuple=[]\n",
    "    for f in df.columns:\n",
    "        if f=='Price':\n",
    "            columns_tuple.append(('Target',f))\n",
    "        elif f in ['Number of rooms', 'Living Area','State of the building']:\n",
    "            columns_tuple.append(('Group 1',f))\n",
    "        elif f == 'zipcode':\n",
    "            columns_tuple.append(('Spatial',f))\n",
    "        else:\n",
    "            columns_tuple.append(('Group 2', f))\n",
    "\n",
    "    df.columns=pd.MultiIndex.from_tuples(columns_tuple)\n",
    "    df.reindex(columns = ['Target','Group 1','Group 2','Spatial'], level=0)\n",
    "    \n",
    "    return df"
   ]
  },
  {
   "cell_type": "code",
   "execution_count": null,
   "metadata": {},
   "outputs": [],
   "source": [
    "df=load()"
   ]
  }
 ],
 "metadata": {
  "kernelspec": {
   "display_name": "scrapping",
   "language": "python",
   "name": "python3"
  },
  "language_info": {
   "codemirror_mode": {
    "name": "ipython",
    "version": 3
   },
   "file_extension": ".py",
   "mimetype": "text/x-python",
   "name": "python",
   "nbconvert_exporter": "python",
   "pygments_lexer": "ipython3",
   "version": "3.10.8"
  },
  "orig_nbformat": 4,
  "vscode": {
   "interpreter": {
    "hash": "8545aa09808da6757a72a737b518558a95cbd22ebccee6a896460349b0878af6"
   }
  }
 },
 "nbformat": 4,
 "nbformat_minor": 2
}
