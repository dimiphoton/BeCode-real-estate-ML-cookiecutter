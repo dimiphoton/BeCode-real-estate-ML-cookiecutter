{
 "cells": [
  {
   "attachments": {},
   "cell_type": "markdown",
   "metadata": {},
   "source": [
    "# Part 3: regression"
   ]
  },
  {
   "cell_type": "code",
   "execution_count": 1,
   "metadata": {},
   "outputs": [
    {
     "name": "stderr",
     "output_type": "stream",
     "text": [
      "/home/dimi/miniconda3/envs/scrapping/lib/python3.10/site-packages/xgboost/compat.py:36: FutureWarning: pandas.Int64Index is deprecated and will be removed from pandas in a future version. Use pandas.Index with the appropriate dtype instead.\n",
      "  from pandas import MultiIndex, Int64Index\n"
     ]
    }
   ],
   "source": [
    "from step_02_load_data.main import load\n",
    "from step_03_clean_data.clean import clean\n",
    "from step_04_feature_engineering.feature_engineering import feature_engineering_0\n",
    "import step_05_compute_models.xgboost_experiments\n",
    "import step_05_compute_models.linear_regression_experiments\n",
    "import step_05_compute_models.random_forest_experiments\n",
    "\n",
    "import pandas as pd\n",
    "import numpy as np"
   ]
  },
  {
   "attachments": {},
   "cell_type": "markdown",
   "metadata": {},
   "source": [
    "## load and clean the data"
   ]
  },
  {
   "cell_type": "code",
   "execution_count": 11,
   "metadata": {},
   "outputs": [],
   "source": [
    "df=load()\n",
    "df=clean(df)\n"
   ]
  },
  {
   "cell_type": "code",
   "execution_count": 12,
   "metadata": {},
   "outputs": [
    {
     "name": "stderr",
     "output_type": "stream",
     "text": [
      "/home/dimi/BeCode/BeCode-real-estate-ML-cookiecutter/src/step_04_feature_engineering/feature_engineering.py:43: SettingWithCopyWarning: \n",
      "A value is trying to be set on a copy of a slice from a DataFrame\n",
      "\n",
      "See the caveats in the documentation: https://pandas.pydata.org/pandas-docs/stable/user_guide/indexing.html#returning-a-view-versus-a-copy\n",
      "  df2.drop(('Group 1', 'State of the building'),axis=1,inplace=True)\n",
      "/home/dimi/BeCode/BeCode-real-estate-ML-cookiecutter/src/step_04_feature_engineering/feature_engineering.py:44: SettingWithCopyWarning: \n",
      "A value is trying to be set on a copy of a slice from a DataFrame\n",
      "\n",
      "See the caveats in the documentation: https://pandas.pydata.org/pandas-docs/stable/user_guide/indexing.html#returning-a-view-versus-a-copy\n",
      "  df2.drop(('my features', 'state note'),axis=1,inplace=True)\n"
     ]
    }
   ],
   "source": [
    "df=feature_engineering_0(df)"
   ]
  },
  {
   "cell_type": "code",
   "execution_count": 14,
   "metadata": {},
   "outputs": [],
   "source": [
    "rent=df.loc['rent']\n",
    "sale=df.loc['sale']"
   ]
  },
  {
   "cell_type": "code",
   "execution_count": 15,
   "metadata": {},
   "outputs": [
    {
     "data": {
      "text/html": [
       "<div>\n",
       "<style scoped>\n",
       "    .dataframe tbody tr th:only-of-type {\n",
       "        vertical-align: middle;\n",
       "    }\n",
       "\n",
       "    .dataframe tbody tr th {\n",
       "        vertical-align: top;\n",
       "    }\n",
       "\n",
       "    .dataframe thead tr th {\n",
       "        text-align: left;\n",
       "    }\n",
       "\n",
       "    .dataframe thead tr:last-of-type th {\n",
       "        text-align: right;\n",
       "    }\n",
       "</style>\n",
       "<table border=\"1\" class=\"dataframe\">\n",
       "  <thead>\n",
       "    <tr>\n",
       "      <th></th>\n",
       "      <th colspan=\"2\" halign=\"left\">Target</th>\n",
       "      <th colspan=\"2\" halign=\"left\">Group 1</th>\n",
       "      <th colspan=\"3\" halign=\"left\">my features</th>\n",
       "    </tr>\n",
       "    <tr>\n",
       "      <th></th>\n",
       "      <th>Price</th>\n",
       "      <th>logPrice</th>\n",
       "      <th>Number of rooms</th>\n",
       "      <th>Living Area</th>\n",
       "      <th>basic count</th>\n",
       "      <th>advanced count</th>\n",
       "      <th>malus</th>\n",
       "    </tr>\n",
       "    <tr>\n",
       "      <th>Id</th>\n",
       "      <th></th>\n",
       "      <th></th>\n",
       "      <th></th>\n",
       "      <th></th>\n",
       "      <th></th>\n",
       "      <th></th>\n",
       "      <th></th>\n",
       "    </tr>\n",
       "  </thead>\n",
       "  <tbody>\n",
       "    <tr>\n",
       "      <th>1610665</th>\n",
       "      <td>485000.0</td>\n",
       "      <td>13.091904</td>\n",
       "      <td>1.0</td>\n",
       "      <td>40.0</td>\n",
       "      <td>2</td>\n",
       "      <td>0</td>\n",
       "      <td>-80.0</td>\n",
       "    </tr>\n",
       "    <tr>\n",
       "      <th>2718948</th>\n",
       "      <td>790000.0</td>\n",
       "      <td>13.579788</td>\n",
       "      <td>2.0</td>\n",
       "      <td>140.0</td>\n",
       "      <td>2</td>\n",
       "      <td>0</td>\n",
       "      <td>0.0</td>\n",
       "    </tr>\n",
       "    <tr>\n",
       "      <th>3229637</th>\n",
       "      <td>900000.0</td>\n",
       "      <td>13.710150</td>\n",
       "      <td>3.0</td>\n",
       "      <td>103.0</td>\n",
       "      <td>1</td>\n",
       "      <td>3</td>\n",
       "      <td>0.0</td>\n",
       "    </tr>\n",
       "    <tr>\n",
       "      <th>3860205</th>\n",
       "      <td>520000.0</td>\n",
       "      <td>13.161584</td>\n",
       "      <td>2.0</td>\n",
       "      <td>50.0</td>\n",
       "      <td>2</td>\n",
       "      <td>0</td>\n",
       "      <td>0.0</td>\n",
       "    </tr>\n",
       "    <tr>\n",
       "      <th>4141598</th>\n",
       "      <td>760000.0</td>\n",
       "      <td>13.541074</td>\n",
       "      <td>1.0</td>\n",
       "      <td>55.0</td>\n",
       "      <td>2</td>\n",
       "      <td>3</td>\n",
       "      <td>55.0</td>\n",
       "    </tr>\n",
       "  </tbody>\n",
       "</table>\n",
       "</div>"
      ],
      "text/plain": [
       "           Target                    Group 1             my features  \\\n",
       "            Price   logPrice Number of rooms Living Area basic count   \n",
       "Id                                                                     \n",
       "1610665  485000.0  13.091904             1.0        40.0           2   \n",
       "2718948  790000.0  13.579788             2.0       140.0           2   \n",
       "3229637  900000.0  13.710150             3.0       103.0           1   \n",
       "3860205  520000.0  13.161584             2.0        50.0           2   \n",
       "4141598  760000.0  13.541074             1.0        55.0           2   \n",
       "\n",
       "                              \n",
       "        advanced count malus  \n",
       "Id                            \n",
       "1610665              0 -80.0  \n",
       "2718948              0   0.0  \n",
       "3229637              3   0.0  \n",
       "3860205              0   0.0  \n",
       "4141598              3  55.0  "
      ]
     },
     "execution_count": 15,
     "metadata": {},
     "output_type": "execute_result"
    }
   ],
   "source": [
    "rent.head()"
   ]
  },
  {
   "cell_type": "code",
   "execution_count": 41,
   "metadata": {},
   "outputs": [],
   "source": [
    "import matplotlib.pyplot as plt\n",
    "from sklearn.preprocessing import StandardScaler\n",
    "from sklearn.model_selection import train_test_split\n",
    "from sklearn.ensemble import RandomForestRegressor\n",
    "from sklearn.model_selection import train_test_split\n",
    "scaler = StandardScaler()"
   ]
  },
  {
   "cell_type": "code",
   "execution_count": 56,
   "metadata": {},
   "outputs": [],
   "source": [
    "y=rent[[('Target','Price')]]\n",
    "X=rent[['Group 1','my features']]\n",
    "X_train, X_test, y_train, y_test = train_test_split(X, y, test_size=0.35, random_state=42)"
   ]
  },
  {
   "cell_type": "code",
   "execution_count": 57,
   "metadata": {},
   "outputs": [],
   "source": [
    "scaler = StandardScaler().fit(X_train)\n",
    "train_sc = scaler.transform(X_train)\n",
    "\n",
    "test_sc = scaler.transform(X_test)"
   ]
  },
  {
   "cell_type": "code",
   "execution_count": 58,
   "metadata": {},
   "outputs": [
    {
     "name": "stderr",
     "output_type": "stream",
     "text": [
      "/tmp/ipykernel_44442/2833113525.py:4: DataConversionWarning: A column-vector y was passed when a 1d array was expected. Please change the shape of y to (n_samples,), for example using ravel().\n",
      "  model.fit(train_sc, y_train)\n"
     ]
    },
    {
     "name": "stdout",
     "output_type": "stream",
     "text": [
      "[0.11893407 0.59973073 0.07050536 0.05492104 0.1559088 ]\n",
      "R^2 score:  0.5096841637455084\n"
     ]
    }
   ],
   "source": [
    "model = RandomForestRegressor(n_estimators=100)\n",
    "\n",
    "# Fit the model to the training data\n",
    "model.fit(train_sc, y_train)\n",
    "\n",
    "# Make predictions on the testing data\n",
    "y_pred = model.predict(test_sc)\n",
    "\n",
    "# print feature importance\n",
    "print(model.feature_importances_)\n",
    "    \n",
    "# Calculate the R^2 score for the model\n",
    "score = model.score(test_sc, y_test)\n",
    "print(\"R^2 score: \", score)"
   ]
  }
 ],
 "metadata": {
  "kernelspec": {
   "display_name": "scrapping",
   "language": "python",
   "name": "python3"
  },
  "language_info": {
   "codemirror_mode": {
    "name": "ipython",
    "version": 3
   },
   "file_extension": ".py",
   "mimetype": "text/x-python",
   "name": "python",
   "nbconvert_exporter": "python",
   "pygments_lexer": "ipython3",
   "version": "3.10.8"
  },
  "orig_nbformat": 4,
  "vscode": {
   "interpreter": {
    "hash": "8545aa09808da6757a72a737b518558a95cbd22ebccee6a896460349b0878af6"
   }
  }
 },
 "nbformat": 4,
 "nbformat_minor": 2
}
