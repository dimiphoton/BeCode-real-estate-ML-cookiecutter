{
 "cells": [
  {
   "cell_type": "code",
   "execution_count": 1,
   "metadata": {},
   "outputs": [
    {
     "name": "stderr",
     "output_type": "stream",
     "text": [
      "/home/dimi/miniconda3/envs/scrapping/lib/python3.10/site-packages/xgboost/compat.py:36: FutureWarning: pandas.Int64Index is deprecated and will be removed from pandas in a future version. Use pandas.Index with the appropriate dtype instead.\n",
      "  from pandas import MultiIndex, Int64Index\n"
     ]
    }
   ],
   "source": [
    "from step_02_load_data.main import load\n",
    "from step_03_clean_data.clean import clean\n",
    "from step_04_feature_engineering.feature_engineering import feature_engineering_0\n",
    "import step_05_compute_models.xgboost_experiments\n",
    "import step_05_compute_models.linear_regression_experiments\n",
    "import step_05_compute_models.random_forest_experiments\n",
    "\n",
    "import pandas as pd\n",
    "import numpy as np"
   ]
  },
  {
   "cell_type": "code",
   "execution_count": 2,
   "metadata": {},
   "outputs": [
    {
     "name": "stderr",
     "output_type": "stream",
     "text": [
      "/home/dimi/BeCode/BeCode-real-estate-ML-cookiecutter/src/step_04_feature_engineering/feature_engineering.py:41: SettingWithCopyWarning: \n",
      "A value is trying to be set on a copy of a slice from a DataFrame\n",
      "\n",
      "See the caveats in the documentation: https://pandas.pydata.org/pandas-docs/stable/user_guide/indexing.html#returning-a-view-versus-a-copy\n",
      "  df2.drop(('Group 1', 'State of the building'),axis=1,inplace=True)\n",
      "/home/dimi/BeCode/BeCode-real-estate-ML-cookiecutter/src/step_04_feature_engineering/feature_engineering.py:42: SettingWithCopyWarning: \n",
      "A value is trying to be set on a copy of a slice from a DataFrame\n",
      "\n",
      "See the caveats in the documentation: https://pandas.pydata.org/pandas-docs/stable/user_guide/indexing.html#returning-a-view-versus-a-copy\n",
      "  df2.drop(('my features', 'state note'),axis=1,inplace=True)\n"
     ]
    }
   ],
   "source": [
    "df=load()\n",
    "df=clean(df)\n",
    "df=feature_engineering_0(df)"
   ]
  },
  {
   "cell_type": "code",
   "execution_count": null,
   "metadata": {},
   "outputs": [],
   "source": [
    "model_linear="
   ]
  }
 ],
 "metadata": {
  "kernelspec": {
   "display_name": "scrapping",
   "language": "python",
   "name": "python3"
  },
  "language_info": {
   "codemirror_mode": {
    "name": "ipython",
    "version": 3
   },
   "file_extension": ".py",
   "mimetype": "text/x-python",
   "name": "python",
   "nbconvert_exporter": "python",
   "pygments_lexer": "ipython3",
   "version": "3.10.8"
  },
  "orig_nbformat": 4,
  "vscode": {
   "interpreter": {
    "hash": "8545aa09808da6757a72a737b518558a95cbd22ebccee6a896460349b0878af6"
   }
  }
 },
 "nbformat": 4,
 "nbformat_minor": 2
}
